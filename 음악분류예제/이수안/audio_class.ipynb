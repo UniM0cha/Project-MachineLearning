{
 "cells": [
  {
   "cell_type": "markdown",
   "metadata": {},
   "source": [
    "https://youtu.be/Cf6QFjdU_KY"
   ]
  },
  {
   "cell_type": "code",
   "execution_count": 4,
   "metadata": {},
   "outputs": [],
   "source": [
    "import numpy as np\n",
    "import itertools\n",
    "import librosa\n",
    "import librosa.display\n",
    "import IPython.display as ipd\n",
    "import matplotlib.pyplot as plt\n",
    "plt.style.use('seaborn-white')"
   ]
  },
  {
   "cell_type": "markdown",
   "metadata": {},
   "source": [
    "- 데이터를 저장할 리스트와 파일을 불러올 경로를 지정\n",
    "- https://www.dropbox.com/s/3dsnj5ldtf3dcx4/GeneralMidi.wav"
   ]
  },
  {
   "cell_type": "code",
   "execution_count": 5,
   "metadata": {},
   "outputs": [
    {
     "name": "stdout",
     "output_type": "stream",
     "text": [
      "--2022-05-07 19:41:58--  https://www.dropbox.com/s/3dsnj5ldtf3dcx4/GeneralMidi.wav\n",
      "www.dropbox.com (www.dropbox.com) 해석 중... 162.125.84.18\n",
      "다음으로 연결 중: www.dropbox.com (www.dropbox.com)|162.125.84.18|:443... 연결했습니다.\n",
      "HTTP 요청을 보냈습니다. 응답 기다리는 중... 301 Moved Permanently\n",
      "위치: /s/raw/3dsnj5ldtf3dcx4/GeneralMidi.wav [따라감]\n",
      "--2022-05-07 19:41:59--  https://www.dropbox.com/s/raw/3dsnj5ldtf3dcx4/GeneralMidi.wav\n",
      "www.dropbox.com에 기존 연결 재활용:443.\n",
      "HTTP 요청을 보냈습니다. 응답 기다리는 중... 302 Found\n",
      "위치: https://uc55210924bf91e3bd544f7a7f4c.dl.dropboxusercontent.com/cd/0/inline/Bkx9VDqEoG4X9veDYWAW6E2sggLaETov1DdLCckLPraGTEFV8djg-pBWO_qrUp1LDK0VKKkkNB44g5r2hsVCuXcdgX_rgAG-1SEtfwUHXnN3ydU5Rr6l8Tau0zRd0Sakz9qNi6xm7zRgP2eUV5zgmtivJ_SR4YUszKf_NX2aZ4KFrA/file# [따라감]\n",
      "--2022-05-07 19:41:59--  https://uc55210924bf91e3bd544f7a7f4c.dl.dropboxusercontent.com/cd/0/inline/Bkx9VDqEoG4X9veDYWAW6E2sggLaETov1DdLCckLPraGTEFV8djg-pBWO_qrUp1LDK0VKKkkNB44g5r2hsVCuXcdgX_rgAG-1SEtfwUHXnN3ydU5Rr6l8Tau0zRd0Sakz9qNi6xm7zRgP2eUV5zgmtivJ_SR4YUszKf_NX2aZ4KFrA/file\n",
      "uc55210924bf91e3bd544f7a7f4c.dl.dropboxusercontent.com (uc55210924bf91e3bd544f7a7f4c.dl.dropboxusercontent.com) 해석 중... 162.125.84.15\n",
      "다음으로 연결 중: uc55210924bf91e3bd544f7a7f4c.dl.dropboxusercontent.com (uc55210924bf91e3bd544f7a7f4c.dl.dropboxusercontent.com)|162.125.84.15|:443... 연결했습니다.\n",
      "HTTP 요청을 보냈습니다. 응답 기다리는 중... 200 OK\n",
      "길이: 3409459756 (3.2G) [audio/x-wav]\n",
      "저장 위치: `GeneralMidi.wav'\n",
      "\n",
      "GeneralMidi.wav     100%[===================>]   3.17G  14.1MB/s    /  4m 48s  \n",
      "\n",
      "2022-05-07 19:46:48 (11.3 MB/s) - `GeneralMidi.wav' 저장함 [3409459756/3409459756]\n",
      "\n"
     ]
    }
   ],
   "source": [
    "!wget https://www.dropbox.com/s/3dsnj5ldtf3dcx4/GeneralMidi.wav"
   ]
  },
  {
   "cell_type": "code",
   "execution_count": 6,
   "metadata": {},
   "outputs": [],
   "source": [
    "midi_file = \"./GeneralMidi.wav\""
   ]
  },
  {
   "cell_type": "markdown",
   "metadata": {},
   "source": [
    "- wmv 파일에는 128개 악기와 46개 타악기의 음을 50개씩 2초 간격으로 존재\n",
    "- 해당 예제에서는 일부 악기만 선택해서 사용"
   ]
  },
  {
   "cell_type": "code",
   "execution_count": null,
   "metadata": {},
   "outputs": [],
   "source": [
    "instruments = [0,10,20,30,40,50,60,70,80,90]\n",
    "num_notes = 50\n",
    "sec=  2\n",
    "\n",
    "audio = []\n",
    "inst = []\n",
    "\n",
    "for inst_idx, note in itertools.product(range(len(instruments)), range(num_notes):\n",
    "    instruments = instruments[inst_idx]\n",
    "    offset = ()"
   ]
  }
 ],
 "metadata": {
  "interpreter": {
   "hash": "aa3dd84ef0f650d9d8b867844db5a915f08cb58b5d6dab20fc53865ee0283ae4"
  },
  "kernelspec": {
   "display_name": "Python 3.9.12 ('py39')",
   "language": "python",
   "name": "python3"
  },
  "language_info": {
   "codemirror_mode": {
    "name": "ipython",
    "version": 3
   },
   "file_extension": ".py",
   "mimetype": "text/x-python",
   "name": "python",
   "nbconvert_exporter": "python",
   "pygments_lexer": "ipython3",
   "version": "3.9.12"
  },
  "orig_nbformat": 4
 },
 "nbformat": 4,
 "nbformat_minor": 2
}
